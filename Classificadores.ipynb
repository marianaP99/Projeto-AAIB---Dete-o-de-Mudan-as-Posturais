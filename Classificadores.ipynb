{
 "cells": [
  {
   "cell_type": "code",
   "execution_count": 1,
   "id": "a41c69bd",
   "metadata": {},
   "outputs": [],
   "source": [
    "import os\n",
    "import pandas as pd\n",
    "import numpy as np\n",
    "import tsfel\n",
    "import matplotlib.pyplot as plt\n",
    "from sklearn.model_selection import train_test_split\n",
    "from sklearn.metrics import ConfusionMatrixDisplay"
   ]
  },
  {
   "cell_type": "code",
   "execution_count": 2,
   "id": "bfc9a3eb",
   "metadata": {},
   "outputs": [],
   "source": [
    "data = pd.read_excel('data.xlsx')"
   ]
  },
  {
   "cell_type": "code",
   "execution_count": 3,
   "id": "7c14eac5",
   "metadata": {},
   "outputs": [],
   "source": [
    "data.drop(['Unnamed: 0'],axis=1, inplace = True)"
   ]
  },
  {
   "cell_type": "code",
   "execution_count": 4,
   "id": "3781c17a",
   "metadata": {},
   "outputs": [
    {
     "data": {
      "text/html": [
       "<div>\n",
       "<style scoped>\n",
       "    .dataframe tbody tr th:only-of-type {\n",
       "        vertical-align: middle;\n",
       "    }\n",
       "\n",
       "    .dataframe tbody tr th {\n",
       "        vertical-align: top;\n",
       "    }\n",
       "\n",
       "    .dataframe thead th {\n",
       "        text-align: right;\n",
       "    }\n",
       "</style>\n",
       "<table border=\"1\" class=\"dataframe\">\n",
       "  <thead>\n",
       "    <tr style=\"text-align: right;\">\n",
       "      <th></th>\n",
       "      <th>Indivíduo</th>\n",
       "      <th>acc_x|0_Absolute energy</th>\n",
       "      <th>acc_x|0_Area under the curve</th>\n",
       "      <th>acc_x|0_Autocorrelation</th>\n",
       "      <th>acc_x|0_Centroid</th>\n",
       "      <th>acc_x|0_ECDF Percentile Count_0</th>\n",
       "      <th>acc_x|0_ECDF Percentile Count_1</th>\n",
       "      <th>acc_x|0_ECDF Percentile_0</th>\n",
       "      <th>acc_x|0_ECDF Percentile_1</th>\n",
       "      <th>acc_x|0_ECDF_0</th>\n",
       "      <th>...</th>\n",
       "      <th>gyro_z|0_Wavelet variance_1</th>\n",
       "      <th>gyro_z|0_Wavelet variance_2</th>\n",
       "      <th>gyro_z|0_Wavelet variance_3</th>\n",
       "      <th>gyro_z|0_Wavelet variance_4</th>\n",
       "      <th>gyro_z|0_Wavelet variance_5</th>\n",
       "      <th>gyro_z|0_Wavelet variance_6</th>\n",
       "      <th>gyro_z|0_Wavelet variance_7</th>\n",
       "      <th>gyro_z|0_Wavelet variance_8</th>\n",
       "      <th>gyro_z|0_Zero crossing rate</th>\n",
       "      <th>Label</th>\n",
       "    </tr>\n",
       "  </thead>\n",
       "  <tbody>\n",
       "    <tr>\n",
       "      <th>0</th>\n",
       "      <td>2</td>\n",
       "      <td>5320.491272</td>\n",
       "      <td>6.562297</td>\n",
       "      <td>5320.491272</td>\n",
       "      <td>0.409357</td>\n",
       "      <td>16</td>\n",
       "      <td>66</td>\n",
       "      <td>-8.007659</td>\n",
       "      <td>-7.990839</td>\n",
       "      <td>0.012048</td>\n",
       "      <td>...</td>\n",
       "      <td>0.000036</td>\n",
       "      <td>0.000044</td>\n",
       "      <td>0.000029</td>\n",
       "      <td>0.000020</td>\n",
       "      <td>0.000019</td>\n",
       "      <td>0.000020</td>\n",
       "      <td>0.000020</td>\n",
       "      <td>0.000019</td>\n",
       "      <td>15</td>\n",
       "      <td>3</td>\n",
       "    </tr>\n",
       "    <tr>\n",
       "      <th>1</th>\n",
       "      <td>2</td>\n",
       "      <td>6245.195696</td>\n",
       "      <td>7.110730</td>\n",
       "      <td>6245.195696</td>\n",
       "      <td>0.410753</td>\n",
       "      <td>16</td>\n",
       "      <td>66</td>\n",
       "      <td>-8.712610</td>\n",
       "      <td>-8.645501</td>\n",
       "      <td>0.012048</td>\n",
       "      <td>...</td>\n",
       "      <td>0.000009</td>\n",
       "      <td>0.000019</td>\n",
       "      <td>0.000036</td>\n",
       "      <td>0.000049</td>\n",
       "      <td>0.000055</td>\n",
       "      <td>0.000052</td>\n",
       "      <td>0.000045</td>\n",
       "      <td>0.000037</td>\n",
       "      <td>10</td>\n",
       "      <td>3</td>\n",
       "    </tr>\n",
       "    <tr>\n",
       "      <th>2</th>\n",
       "      <td>2</td>\n",
       "      <td>6697.900953</td>\n",
       "      <td>7.363813</td>\n",
       "      <td>6697.900953</td>\n",
       "      <td>0.410550</td>\n",
       "      <td>16</td>\n",
       "      <td>66</td>\n",
       "      <td>-9.004519</td>\n",
       "      <td>-8.957186</td>\n",
       "      <td>0.012048</td>\n",
       "      <td>...</td>\n",
       "      <td>0.000464</td>\n",
       "      <td>0.000761</td>\n",
       "      <td>0.000725</td>\n",
       "      <td>0.000530</td>\n",
       "      <td>0.000330</td>\n",
       "      <td>0.000190</td>\n",
       "      <td>0.000117</td>\n",
       "      <td>0.000090</td>\n",
       "      <td>12</td>\n",
       "      <td>3</td>\n",
       "    </tr>\n",
       "    <tr>\n",
       "      <th>3</th>\n",
       "      <td>2</td>\n",
       "      <td>6356.469665</td>\n",
       "      <td>7.132471</td>\n",
       "      <td>6356.469665</td>\n",
       "      <td>0.404750</td>\n",
       "      <td>16</td>\n",
       "      <td>65</td>\n",
       "      <td>-8.837230</td>\n",
       "      <td>-8.783095</td>\n",
       "      <td>0.012195</td>\n",
       "      <td>...</td>\n",
       "      <td>0.000544</td>\n",
       "      <td>0.001199</td>\n",
       "      <td>0.002038</td>\n",
       "      <td>0.002690</td>\n",
       "      <td>0.002976</td>\n",
       "      <td>0.003056</td>\n",
       "      <td>0.003149</td>\n",
       "      <td>0.003339</td>\n",
       "      <td>12</td>\n",
       "      <td>3</td>\n",
       "    </tr>\n",
       "    <tr>\n",
       "      <th>4</th>\n",
       "      <td>2</td>\n",
       "      <td>6309.032331</td>\n",
       "      <td>7.149305</td>\n",
       "      <td>6309.032331</td>\n",
       "      <td>0.410488</td>\n",
       "      <td>16</td>\n",
       "      <td>66</td>\n",
       "      <td>-8.739024</td>\n",
       "      <td>-8.703359</td>\n",
       "      <td>0.012048</td>\n",
       "      <td>...</td>\n",
       "      <td>0.000021</td>\n",
       "      <td>0.000030</td>\n",
       "      <td>0.000036</td>\n",
       "      <td>0.000032</td>\n",
       "      <td>0.000030</td>\n",
       "      <td>0.000034</td>\n",
       "      <td>0.000040</td>\n",
       "      <td>0.000049</td>\n",
       "      <td>9</td>\n",
       "      <td>3</td>\n",
       "    </tr>\n",
       "    <tr>\n",
       "      <th>...</th>\n",
       "      <td>...</td>\n",
       "      <td>...</td>\n",
       "      <td>...</td>\n",
       "      <td>...</td>\n",
       "      <td>...</td>\n",
       "      <td>...</td>\n",
       "      <td>...</td>\n",
       "      <td>...</td>\n",
       "      <td>...</td>\n",
       "      <td>...</td>\n",
       "      <td>...</td>\n",
       "      <td>...</td>\n",
       "      <td>...</td>\n",
       "      <td>...</td>\n",
       "      <td>...</td>\n",
       "      <td>...</td>\n",
       "      <td>...</td>\n",
       "      <td>...</td>\n",
       "      <td>...</td>\n",
       "      <td>...</td>\n",
       "      <td>...</td>\n",
       "    </tr>\n",
       "    <tr>\n",
       "      <th>96</th>\n",
       "      <td>1</td>\n",
       "      <td>6469.281399</td>\n",
       "      <td>7.226016</td>\n",
       "      <td>6469.281399</td>\n",
       "      <td>0.383428</td>\n",
       "      <td>16</td>\n",
       "      <td>66</td>\n",
       "      <td>-9.355700</td>\n",
       "      <td>-8.120717</td>\n",
       "      <td>0.012048</td>\n",
       "      <td>...</td>\n",
       "      <td>0.000101</td>\n",
       "      <td>0.000332</td>\n",
       "      <td>0.000702</td>\n",
       "      <td>0.001195</td>\n",
       "      <td>0.001737</td>\n",
       "      <td>0.002218</td>\n",
       "      <td>0.002560</td>\n",
       "      <td>0.002749</td>\n",
       "      <td>9</td>\n",
       "      <td>0</td>\n",
       "    </tr>\n",
       "    <tr>\n",
       "      <th>97</th>\n",
       "      <td>1</td>\n",
       "      <td>6288.407021</td>\n",
       "      <td>7.117608</td>\n",
       "      <td>6288.407021</td>\n",
       "      <td>0.378383</td>\n",
       "      <td>16</td>\n",
       "      <td>66</td>\n",
       "      <td>-9.353114</td>\n",
       "      <td>-7.931873</td>\n",
       "      <td>0.012048</td>\n",
       "      <td>...</td>\n",
       "      <td>0.000125</td>\n",
       "      <td>0.000233</td>\n",
       "      <td>0.000334</td>\n",
       "      <td>0.000453</td>\n",
       "      <td>0.000591</td>\n",
       "      <td>0.000762</td>\n",
       "      <td>0.000991</td>\n",
       "      <td>0.001285</td>\n",
       "      <td>9</td>\n",
       "      <td>0</td>\n",
       "    </tr>\n",
       "    <tr>\n",
       "      <th>98</th>\n",
       "      <td>1</td>\n",
       "      <td>6245.405417</td>\n",
       "      <td>7.098627</td>\n",
       "      <td>6245.405417</td>\n",
       "      <td>0.381963</td>\n",
       "      <td>16</td>\n",
       "      <td>66</td>\n",
       "      <td>-9.284309</td>\n",
       "      <td>-8.099550</td>\n",
       "      <td>0.012048</td>\n",
       "      <td>...</td>\n",
       "      <td>0.000179</td>\n",
       "      <td>0.000423</td>\n",
       "      <td>0.000617</td>\n",
       "      <td>0.000875</td>\n",
       "      <td>0.001299</td>\n",
       "      <td>0.001865</td>\n",
       "      <td>0.002519</td>\n",
       "      <td>0.003201</td>\n",
       "      <td>5</td>\n",
       "      <td>0</td>\n",
       "    </tr>\n",
       "    <tr>\n",
       "      <th>99</th>\n",
       "      <td>1</td>\n",
       "      <td>6571.661627</td>\n",
       "      <td>7.285569</td>\n",
       "      <td>6571.661627</td>\n",
       "      <td>0.385950</td>\n",
       "      <td>16</td>\n",
       "      <td>66</td>\n",
       "      <td>-9.322222</td>\n",
       "      <td>-8.192425</td>\n",
       "      <td>0.012048</td>\n",
       "      <td>...</td>\n",
       "      <td>0.000214</td>\n",
       "      <td>0.000697</td>\n",
       "      <td>0.001293</td>\n",
       "      <td>0.001707</td>\n",
       "      <td>0.001846</td>\n",
       "      <td>0.001849</td>\n",
       "      <td>0.001890</td>\n",
       "      <td>0.002029</td>\n",
       "      <td>14</td>\n",
       "      <td>0</td>\n",
       "    </tr>\n",
       "    <tr>\n",
       "      <th>100</th>\n",
       "      <td>1</td>\n",
       "      <td>6585.907691</td>\n",
       "      <td>7.210424</td>\n",
       "      <td>6585.907691</td>\n",
       "      <td>0.386476</td>\n",
       "      <td>16</td>\n",
       "      <td>64</td>\n",
       "      <td>-9.358472</td>\n",
       "      <td>-8.690615</td>\n",
       "      <td>0.012346</td>\n",
       "      <td>...</td>\n",
       "      <td>0.000292</td>\n",
       "      <td>0.000757</td>\n",
       "      <td>0.001425</td>\n",
       "      <td>0.002303</td>\n",
       "      <td>0.003253</td>\n",
       "      <td>0.004144</td>\n",
       "      <td>0.004931</td>\n",
       "      <td>0.005620</td>\n",
       "      <td>11</td>\n",
       "      <td>0</td>\n",
       "    </tr>\n",
       "  </tbody>\n",
       "</table>\n",
       "<p>101 rows × 1058 columns</p>\n",
       "</div>"
      ],
      "text/plain": [
       "     Indivíduo  acc_x|0_Absolute energy  acc_x|0_Area under the curve  \\\n",
       "0            2              5320.491272                      6.562297   \n",
       "1            2              6245.195696                      7.110730   \n",
       "2            2              6697.900953                      7.363813   \n",
       "3            2              6356.469665                      7.132471   \n",
       "4            2              6309.032331                      7.149305   \n",
       "..         ...                      ...                           ...   \n",
       "96           1              6469.281399                      7.226016   \n",
       "97           1              6288.407021                      7.117608   \n",
       "98           1              6245.405417                      7.098627   \n",
       "99           1              6571.661627                      7.285569   \n",
       "100          1              6585.907691                      7.210424   \n",
       "\n",
       "     acc_x|0_Autocorrelation  acc_x|0_Centroid  \\\n",
       "0                5320.491272          0.409357   \n",
       "1                6245.195696          0.410753   \n",
       "2                6697.900953          0.410550   \n",
       "3                6356.469665          0.404750   \n",
       "4                6309.032331          0.410488   \n",
       "..                       ...               ...   \n",
       "96               6469.281399          0.383428   \n",
       "97               6288.407021          0.378383   \n",
       "98               6245.405417          0.381963   \n",
       "99               6571.661627          0.385950   \n",
       "100              6585.907691          0.386476   \n",
       "\n",
       "     acc_x|0_ECDF Percentile Count_0  acc_x|0_ECDF Percentile Count_1  \\\n",
       "0                                 16                               66   \n",
       "1                                 16                               66   \n",
       "2                                 16                               66   \n",
       "3                                 16                               65   \n",
       "4                                 16                               66   \n",
       "..                               ...                              ...   \n",
       "96                                16                               66   \n",
       "97                                16                               66   \n",
       "98                                16                               66   \n",
       "99                                16                               66   \n",
       "100                               16                               64   \n",
       "\n",
       "     acc_x|0_ECDF Percentile_0  acc_x|0_ECDF Percentile_1  acc_x|0_ECDF_0  \\\n",
       "0                    -8.007659                  -7.990839        0.012048   \n",
       "1                    -8.712610                  -8.645501        0.012048   \n",
       "2                    -9.004519                  -8.957186        0.012048   \n",
       "3                    -8.837230                  -8.783095        0.012195   \n",
       "4                    -8.739024                  -8.703359        0.012048   \n",
       "..                         ...                        ...             ...   \n",
       "96                   -9.355700                  -8.120717        0.012048   \n",
       "97                   -9.353114                  -7.931873        0.012048   \n",
       "98                   -9.284309                  -8.099550        0.012048   \n",
       "99                   -9.322222                  -8.192425        0.012048   \n",
       "100                  -9.358472                  -8.690615        0.012346   \n",
       "\n",
       "     ...  gyro_z|0_Wavelet variance_1  gyro_z|0_Wavelet variance_2  \\\n",
       "0    ...                     0.000036                     0.000044   \n",
       "1    ...                     0.000009                     0.000019   \n",
       "2    ...                     0.000464                     0.000761   \n",
       "3    ...                     0.000544                     0.001199   \n",
       "4    ...                     0.000021                     0.000030   \n",
       "..   ...                          ...                          ...   \n",
       "96   ...                     0.000101                     0.000332   \n",
       "97   ...                     0.000125                     0.000233   \n",
       "98   ...                     0.000179                     0.000423   \n",
       "99   ...                     0.000214                     0.000697   \n",
       "100  ...                     0.000292                     0.000757   \n",
       "\n",
       "     gyro_z|0_Wavelet variance_3  gyro_z|0_Wavelet variance_4  \\\n",
       "0                       0.000029                     0.000020   \n",
       "1                       0.000036                     0.000049   \n",
       "2                       0.000725                     0.000530   \n",
       "3                       0.002038                     0.002690   \n",
       "4                       0.000036                     0.000032   \n",
       "..                           ...                          ...   \n",
       "96                      0.000702                     0.001195   \n",
       "97                      0.000334                     0.000453   \n",
       "98                      0.000617                     0.000875   \n",
       "99                      0.001293                     0.001707   \n",
       "100                     0.001425                     0.002303   \n",
       "\n",
       "     gyro_z|0_Wavelet variance_5  gyro_z|0_Wavelet variance_6  \\\n",
       "0                       0.000019                     0.000020   \n",
       "1                       0.000055                     0.000052   \n",
       "2                       0.000330                     0.000190   \n",
       "3                       0.002976                     0.003056   \n",
       "4                       0.000030                     0.000034   \n",
       "..                           ...                          ...   \n",
       "96                      0.001737                     0.002218   \n",
       "97                      0.000591                     0.000762   \n",
       "98                      0.001299                     0.001865   \n",
       "99                      0.001846                     0.001849   \n",
       "100                     0.003253                     0.004144   \n",
       "\n",
       "     gyro_z|0_Wavelet variance_7  gyro_z|0_Wavelet variance_8  \\\n",
       "0                       0.000020                     0.000019   \n",
       "1                       0.000045                     0.000037   \n",
       "2                       0.000117                     0.000090   \n",
       "3                       0.003149                     0.003339   \n",
       "4                       0.000040                     0.000049   \n",
       "..                           ...                          ...   \n",
       "96                      0.002560                     0.002749   \n",
       "97                      0.000991                     0.001285   \n",
       "98                      0.002519                     0.003201   \n",
       "99                      0.001890                     0.002029   \n",
       "100                     0.004931                     0.005620   \n",
       "\n",
       "     gyro_z|0_Zero crossing rate  Label  \n",
       "0                             15      3  \n",
       "1                             10      3  \n",
       "2                             12      3  \n",
       "3                             12      3  \n",
       "4                              9      3  \n",
       "..                           ...    ...  \n",
       "96                             9      0  \n",
       "97                             9      0  \n",
       "98                             5      0  \n",
       "99                            14      0  \n",
       "100                           11      0  \n",
       "\n",
       "[101 rows x 1058 columns]"
      ]
     },
     "execution_count": 4,
     "metadata": {},
     "output_type": "execute_result"
    }
   ],
   "source": [
    "data"
   ]
  },
  {
   "cell_type": "markdown",
   "id": "05eed065",
   "metadata": {},
   "source": [
    "__Label Key__\n",
    "\n",
    "0 - back\n",
    "\n",
    "1 - front\n",
    "\n",
    "2 - left\n",
    "\n",
    "3 - still\n",
    "\n",
    "4 - right"
   ]
  },
  {
   "cell_type": "code",
   "execution_count": null,
   "id": "cee3a056",
   "metadata": {
    "scrolled": true
   },
   "outputs": [],
   "source": [
    "features = ['acc_y|0_Mean','acc_y|0_Histogram_0','acc_y|0_Median','acc_y|0_Wavelet standard deviation_7', \\\n",
    "'acc_y|0_Wavelet variance_7','acc_z|0_Slope','gyro_z|0_Mean','gyro_z|0_Histogram_6','gyro_y|0_ECDF Percentile_1', \\\n",
    "'gyro_y|0_Interquartile range','gyro_y|0_Mean','gyro_y|0_Histogram_3','acc_y|0_Mean absolute deviation', \\\n",
    "'acc_z|0_Mean absolute deviation', 'gyro_y|0_Wavelet energy_5', 'gyro_y|0_Wavelet standard deviation_5', \\\n",
    "'gyro_y|0_Wavelet variance_5','acc_y|0_Wavelet standard deviation_6','acc_y|0_Wavelet variance_6','gyro_y|0_Spectral distance']\n",
    "features[0:10]"
   ]
  },
  {
   "cell_type": "code",
   "execution_count": 5,
   "id": "589b5cfb",
   "metadata": {},
   "outputs": [],
   "source": [
    "features = ['acc_y|0_Mean','acc_y|0_Histogram_0','acc_y|0_Median','acc_y|0_Wavelet standard deviation_7', \\\n",
    "'acc_y|0_Wavelet variance_7','acc_z|0_Slope','gyro_z|0_Mean','gyro_z|0_Histogram_6','gyro_y|0_ECDF Percentile_1', \\\n",
    "'gyro_y|0_Interquartile range','gyro_y|0_Mean','gyro_y|0_Histogram_3','acc_y|0_Mean absolute deviation', \\\n",
    "'acc_z|0_Mean absolute deviation', 'gyro_y|0_Wavelet energy_5', 'gyro_y|0_Wavelet standard deviation_5', \\\n",
    "'gyro_y|0_Wavelet variance_5','acc_y|0_Wavelet standard deviation_6','acc_y|0_Wavelet variance_6','gyro_y|0_Spectral distance']\n",
    "\n",
    "n_features = 10\n",
    "\n",
    "X_data = data[features[0:n_features]]\n",
    "\n",
    "X_data_acc = data[['acc_y|0_Mean','acc_y|0_Histogram_0','acc_y|0_Median','acc_y|0_Wavelet standard deviation_7', \\\n",
    "'acc_y|0_Wavelet variance_7','acc_z|0_Slope','acc_y|0_Mean absolute deviation', \\\n",
    "'acc_z|0_Mean absolute deviation','acc_y|0_Wavelet standard deviation_6','acc_y|0_Wavelet variance_6']]\n",
    "\n",
    "X_data_gyro = data[['gyro_z|0_Mean','gyro_z|0_Histogram_6','gyro_y|0_ECDF Percentile_1', \\\n",
    "'gyro_y|0_Interquartile range','gyro_y|0_Mean','gyro_y|0_Histogram_3','gyro_y|0_Wavelet energy_5', \\\n",
    "'gyro_y|0_Wavelet standard deviation_5','gyro_y|0_Wavelet variance_5','gyro_y|0_Spectral distance']]\n",
    "\n",
    "y_data = data['Label']\n",
    "\n",
    "X_train, X_test, y_train, y_test = train_test_split(X_data, y_data, test_size=0.3, stratify = y_data) \n",
    "# 'stratify' ensures that train group is representative of the data by maintaing the percentage of each label"
   ]
  },
  {
   "cell_type": "code",
   "execution_count": 6,
   "id": "5b479e41",
   "metadata": {},
   "outputs": [
    {
     "data": {
      "text/html": [
       "<div>\n",
       "<style scoped>\n",
       "    .dataframe tbody tr th:only-of-type {\n",
       "        vertical-align: middle;\n",
       "    }\n",
       "\n",
       "    .dataframe tbody tr th {\n",
       "        vertical-align: top;\n",
       "    }\n",
       "\n",
       "    .dataframe thead th {\n",
       "        text-align: right;\n",
       "    }\n",
       "</style>\n",
       "<table border=\"1\" class=\"dataframe\">\n",
       "  <thead>\n",
       "    <tr style=\"text-align: right;\">\n",
       "      <th></th>\n",
       "      <th>acc_y|0_Mean</th>\n",
       "      <th>acc_y|0_Histogram_0</th>\n",
       "      <th>acc_y|0_Median</th>\n",
       "      <th>acc_y|0_Wavelet standard deviation_7</th>\n",
       "      <th>acc_y|0_Wavelet variance_7</th>\n",
       "      <th>acc_z|0_Slope</th>\n",
       "      <th>gyro_z|0_Mean</th>\n",
       "      <th>gyro_z|0_Histogram_6</th>\n",
       "      <th>gyro_y|0_ECDF Percentile_1</th>\n",
       "      <th>gyro_y|0_Interquartile range</th>\n",
       "    </tr>\n",
       "  </thead>\n",
       "  <tbody>\n",
       "    <tr>\n",
       "      <th>21</th>\n",
       "      <td>0.818579</td>\n",
       "      <td>0</td>\n",
       "      <td>0.918180</td>\n",
       "      <td>0.434997</td>\n",
       "      <td>0.189222</td>\n",
       "      <td>-0.104321</td>\n",
       "      <td>-0.010838</td>\n",
       "      <td>0</td>\n",
       "      <td>0.318523</td>\n",
       "      <td>0.212344</td>\n",
       "    </tr>\n",
       "    <tr>\n",
       "      <th>1</th>\n",
       "      <td>-0.491915</td>\n",
       "      <td>0</td>\n",
       "      <td>-0.488476</td>\n",
       "      <td>0.287122</td>\n",
       "      <td>0.082439</td>\n",
       "      <td>-0.001296</td>\n",
       "      <td>-0.000580</td>\n",
       "      <td>0</td>\n",
       "      <td>0.005269</td>\n",
       "      <td>0.007631</td>\n",
       "    </tr>\n",
       "    <tr>\n",
       "      <th>43</th>\n",
       "      <td>3.662602</td>\n",
       "      <td>0</td>\n",
       "      <td>4.923181</td>\n",
       "      <td>3.433010</td>\n",
       "      <td>11.785560</td>\n",
       "      <td>-0.031482</td>\n",
       "      <td>0.091136</td>\n",
       "      <td>13</td>\n",
       "      <td>0.052863</td>\n",
       "      <td>0.053676</td>\n",
       "    </tr>\n",
       "    <tr>\n",
       "      <th>23</th>\n",
       "      <td>0.214383</td>\n",
       "      <td>0</td>\n",
       "      <td>0.266889</td>\n",
       "      <td>0.355667</td>\n",
       "      <td>0.126499</td>\n",
       "      <td>0.079527</td>\n",
       "      <td>-0.003942</td>\n",
       "      <td>0</td>\n",
       "      <td>-0.032516</td>\n",
       "      <td>0.197745</td>\n",
       "    </tr>\n",
       "    <tr>\n",
       "      <th>69</th>\n",
       "      <td>-0.195088</td>\n",
       "      <td>0</td>\n",
       "      <td>-0.052088</td>\n",
       "      <td>0.541834</td>\n",
       "      <td>0.293584</td>\n",
       "      <td>-0.112936</td>\n",
       "      <td>-0.010305</td>\n",
       "      <td>0</td>\n",
       "      <td>0.344724</td>\n",
       "      <td>0.266022</td>\n",
       "    </tr>\n",
       "    <tr>\n",
       "      <th>...</th>\n",
       "      <td>...</td>\n",
       "      <td>...</td>\n",
       "      <td>...</td>\n",
       "      <td>...</td>\n",
       "      <td>...</td>\n",
       "      <td>...</td>\n",
       "      <td>...</td>\n",
       "      <td>...</td>\n",
       "      <td>...</td>\n",
       "      <td>...</td>\n",
       "    </tr>\n",
       "    <tr>\n",
       "      <th>47</th>\n",
       "      <td>2.915067</td>\n",
       "      <td>0</td>\n",
       "      <td>3.314898</td>\n",
       "      <td>2.929047</td>\n",
       "      <td>8.579316</td>\n",
       "      <td>-0.013149</td>\n",
       "      <td>0.072183</td>\n",
       "      <td>10</td>\n",
       "      <td>0.046999</td>\n",
       "      <td>0.080674</td>\n",
       "    </tr>\n",
       "    <tr>\n",
       "      <th>89</th>\n",
       "      <td>-2.775435</td>\n",
       "      <td>2</td>\n",
       "      <td>-2.933941</td>\n",
       "      <td>2.807034</td>\n",
       "      <td>7.879438</td>\n",
       "      <td>-0.003808</td>\n",
       "      <td>-0.099518</td>\n",
       "      <td>0</td>\n",
       "      <td>0.027386</td>\n",
       "      <td>0.030502</td>\n",
       "    </tr>\n",
       "    <tr>\n",
       "      <th>85</th>\n",
       "      <td>-2.930970</td>\n",
       "      <td>2</td>\n",
       "      <td>-3.676193</td>\n",
       "      <td>2.740259</td>\n",
       "      <td>7.509018</td>\n",
       "      <td>0.001606</td>\n",
       "      <td>-0.092380</td>\n",
       "      <td>0</td>\n",
       "      <td>0.009086</td>\n",
       "      <td>0.026367</td>\n",
       "    </tr>\n",
       "    <tr>\n",
       "      <th>98</th>\n",
       "      <td>0.076812</td>\n",
       "      <td>0</td>\n",
       "      <td>0.228714</td>\n",
       "      <td>0.434636</td>\n",
       "      <td>0.188908</td>\n",
       "      <td>0.099550</td>\n",
       "      <td>0.004676</td>\n",
       "      <td>0</td>\n",
       "      <td>0.005134</td>\n",
       "      <td>0.253893</td>\n",
       "    </tr>\n",
       "    <tr>\n",
       "      <th>27</th>\n",
       "      <td>0.771898</td>\n",
       "      <td>0</td>\n",
       "      <td>0.717786</td>\n",
       "      <td>0.534640</td>\n",
       "      <td>0.285840</td>\n",
       "      <td>0.050695</td>\n",
       "      <td>-0.004881</td>\n",
       "      <td>0</td>\n",
       "      <td>-0.002575</td>\n",
       "      <td>0.123598</td>\n",
       "    </tr>\n",
       "  </tbody>\n",
       "</table>\n",
       "<p>70 rows × 10 columns</p>\n",
       "</div>"
      ],
      "text/plain": [
       "    acc_y|0_Mean  acc_y|0_Histogram_0  acc_y|0_Median  \\\n",
       "21      0.818579                    0        0.918180   \n",
       "1      -0.491915                    0       -0.488476   \n",
       "43      3.662602                    0        4.923181   \n",
       "23      0.214383                    0        0.266889   \n",
       "69     -0.195088                    0       -0.052088   \n",
       "..           ...                  ...             ...   \n",
       "47      2.915067                    0        3.314898   \n",
       "89     -2.775435                    2       -2.933941   \n",
       "85     -2.930970                    2       -3.676193   \n",
       "98      0.076812                    0        0.228714   \n",
       "27      0.771898                    0        0.717786   \n",
       "\n",
       "    acc_y|0_Wavelet standard deviation_7  acc_y|0_Wavelet variance_7  \\\n",
       "21                              0.434997                    0.189222   \n",
       "1                               0.287122                    0.082439   \n",
       "43                              3.433010                   11.785560   \n",
       "23                              0.355667                    0.126499   \n",
       "69                              0.541834                    0.293584   \n",
       "..                                   ...                         ...   \n",
       "47                              2.929047                    8.579316   \n",
       "89                              2.807034                    7.879438   \n",
       "85                              2.740259                    7.509018   \n",
       "98                              0.434636                    0.188908   \n",
       "27                              0.534640                    0.285840   \n",
       "\n",
       "    acc_z|0_Slope  gyro_z|0_Mean  gyro_z|0_Histogram_6  \\\n",
       "21      -0.104321      -0.010838                     0   \n",
       "1       -0.001296      -0.000580                     0   \n",
       "43      -0.031482       0.091136                    13   \n",
       "23       0.079527      -0.003942                     0   \n",
       "69      -0.112936      -0.010305                     0   \n",
       "..            ...            ...                   ...   \n",
       "47      -0.013149       0.072183                    10   \n",
       "89      -0.003808      -0.099518                     0   \n",
       "85       0.001606      -0.092380                     0   \n",
       "98       0.099550       0.004676                     0   \n",
       "27       0.050695      -0.004881                     0   \n",
       "\n",
       "    gyro_y|0_ECDF Percentile_1  gyro_y|0_Interquartile range  \n",
       "21                    0.318523                      0.212344  \n",
       "1                     0.005269                      0.007631  \n",
       "43                    0.052863                      0.053676  \n",
       "23                   -0.032516                      0.197745  \n",
       "69                    0.344724                      0.266022  \n",
       "..                         ...                           ...  \n",
       "47                    0.046999                      0.080674  \n",
       "89                    0.027386                      0.030502  \n",
       "85                    0.009086                      0.026367  \n",
       "98                    0.005134                      0.253893  \n",
       "27                   -0.002575                      0.123598  \n",
       "\n",
       "[70 rows x 10 columns]"
      ]
     },
     "execution_count": 6,
     "metadata": {},
     "output_type": "execute_result"
    }
   ],
   "source": [
    "X_train"
   ]
  },
  {
   "cell_type": "code",
   "execution_count": 7,
   "id": "2fe1ef57",
   "metadata": {},
   "outputs": [
    {
     "data": {
      "text/plain": [
       "Int64Index([ 21,   1,  43,  23,  69,  31,  57,  50,  76,  56, 100,   2,  53,\n",
       "             92,  99,  75,   8,  54,  19,  52,  22,  94,  68,  17,  87,  64,\n",
       "             81,  96,   3,  90,  29,  24,  71,  49,  88,  34,  62,  73,  48,\n",
       "             13,  40,  35,   4,  93,  63,  25,  51,  82,  72,  12,  16,  38,\n",
       "             46,  86,  55,   0,  42,  79,   5,  33,  58,  11,  15,  30,  61,\n",
       "             47,  89,  85,  98,  27],\n",
       "           dtype='int64')"
      ]
     },
     "execution_count": 7,
     "metadata": {},
     "output_type": "execute_result"
    }
   ],
   "source": [
    "X_train.index"
   ]
  },
  {
   "cell_type": "code",
   "execution_count": 8,
   "id": "32f7bdae",
   "metadata": {},
   "outputs": [],
   "source": [
    "from sklearn.naive_bayes import GaussianNB\n",
    "\n",
    "gnb = GaussianNB()\n",
    "gnb.fit(X_train, y_train)\n",
    "y_test_gnb = gnb.predict(X_test)\n",
    "y_train_gnb = gnb.predict(X_train)\n",
    "y_test_gnb_proba = gnb.predict_proba(X_test)\n",
    "\n",
    "from sklearn.ensemble import RandomForestClassifier\n",
    "\n",
    "rf = RandomForestClassifier(n_estimators=5)\n",
    "rf.fit(X_train, y_train)\n",
    "y_test_rf = rf.predict(X_test)\n",
    "y_train_rf = rf.predict(X_train)\n",
    "y_test_rf_proba = rf.predict_proba(X_test)\n",
    "\n",
    "from sklearn.svm import SVC\n",
    "\n",
    "svc = SVC(probability = True)\n",
    "svc.fit(X_train, y_train)\n",
    "y_test_svc = svc.predict(X_test)\n",
    "y_train_svc = svc.predict(X_train)\n",
    "y_test_svc_proba = svc.predict_proba(X_test)"
   ]
  },
  {
   "cell_type": "markdown",
   "id": "ab6372d8",
   "metadata": {},
   "source": [
    "### Support Vector Classifier"
   ]
  },
  {
   "cell_type": "code",
   "execution_count": 9,
   "id": "5cd8f4cb",
   "metadata": {},
   "outputs": [
    {
     "name": "stdout",
     "output_type": "stream",
     "text": [
      "\u001b[1m Train Group \n",
      " \u001b[0m\n"
     ]
    },
    {
     "data": {
      "text/plain": [
       "<sklearn.metrics._plot.confusion_matrix.ConfusionMatrixDisplay at 0x1fb53cc92b0>"
      ]
     },
     "execution_count": 9,
     "metadata": {},
     "output_type": "execute_result"
    },
    {
     "data": {
      "image/png": "[encoded data removed]",
      "text/plain": [
       "<Figure size 432x288 with 2 Axes>"
      ]
     },
     "metadata": {
      "needs_background": "light"
     },
     "output_type": "display_data"
    }
   ],
   "source": [
    "print('\\033[1m Train Group \\n \\033[0m')\n",
    "ConfusionMatrixDisplay.from_predictions(y_train, y_train_svc, xticks_rotation=\"vertical\")"
   ]
  },
  {
   "cell_type": "code",
   "execution_count": 10,
   "id": "8e440ef3",
   "metadata": {},
   "outputs": [
    {
     "name": "stdout",
     "output_type": "stream",
     "text": [
      "\u001b[1m Test Group \n",
      " \u001b[0m\n"
     ]
    },
    {
     "data": {
      "text/plain": [
       "<sklearn.metrics._plot.confusion_matrix.ConfusionMatrixDisplay at 0x1fb53f95a00>"
      ]
     },
     "execution_count": 10,
     "metadata": {},
     "output_type": "execute_result"
    },
    {
     "data": {
      "image/png": "[encoded data removed]",
      "text/plain": [
       "<Figure size 432x288 with 2 Axes>"
      ]
     },
     "metadata": {
      "needs_background": "light"
     },
     "output_type": "display_data"
    }
   ],
   "source": [
    "print('\\033[1m Test Group \\n \\033[0m')\n",
    "ConfusionMatrixDisplay.from_predictions(y_test, y_test_svc, xticks_rotation=\"vertical\")"
   ]
  },
  {
   "cell_type": "markdown",
   "id": "4597fe36",
   "metadata": {},
   "source": [
    "### Random Forest Classifier"
   ]
  },
  {
   "cell_type": "code",
   "execution_count": 11,
   "id": "cb5fc858",
   "metadata": {
    "scrolled": false
   },
   "outputs": [
    {
     "name": "stdout",
     "output_type": "stream",
     "text": [
      "\u001b[1m Train Group \n",
      " \u001b[0m\n"
     ]
    },
    {
     "data": {
      "text/plain": [
       "<sklearn.metrics._plot.confusion_matrix.ConfusionMatrixDisplay at 0x1fb54a2e2e0>"
      ]
     },
     "execution_count": 11,
     "metadata": {},
     "output_type": "execute_result"
    },
    {
     "data": {
      "image/png": "[encoded data removed]",
      "text/plain": [
       "<Figure size 432x288 with 2 Axes>"
      ]
     },
     "metadata": {
      "needs_background": "light"
     },
     "output_type": "display_data"
    }
   ],
   "source": [
    "print('\\033[1m Train Group \\n \\033[0m')\n",
    "ConfusionMatrixDisplay.from_predictions(y_train, y_train_rf, xticks_rotation=\"vertical\")"
   ]
  },
  {
   "cell_type": "code",
   "execution_count": 12,
   "id": "91c7040f",
   "metadata": {
    "scrolled": true
   },
   "outputs": [
    {
     "name": "stdout",
     "output_type": "stream",
     "text": [
      "\u001b[1m Test Group \n",
      " \u001b[0m\n"
     ]
    },
    {
     "data": {
      "text/plain": [
       "<sklearn.metrics._plot.confusion_matrix.ConfusionMatrixDisplay at 0x1fb54b4cdf0>"
      ]
     },
     "execution_count": 12,
     "metadata": {},
     "output_type": "execute_result"
    },
    {
     "data": {
      "image/png": "[encoded data removed]",
      "text/plain": [
       "<Figure size 432x288 with 2 Axes>"
      ]
     },
     "metadata": {
      "needs_background": "light"
     },
     "output_type": "display_data"
    }
   ],
   "source": [
    "print('\\033[1m Test Group \\n \\033[0m')\n",
    "ConfusionMatrixDisplay.from_predictions(y_test, y_test_rf, xticks_rotation=\"vertical\")"
   ]
  },
  {
   "cell_type": "markdown",
   "id": "8cadf2a8",
   "metadata": {},
   "source": [
    "### Gaussian Naive Bayes"
   ]
  },
  {
   "cell_type": "code",
   "execution_count": 13,
   "id": "5cfbff02",
   "metadata": {},
   "outputs": [
    {
     "name": "stdout",
     "output_type": "stream",
     "text": [
      "\u001b[1m Train Group \n",
      " \u001b[0m\n"
     ]
    },
    {
     "data": {
      "text/plain": [
       "<sklearn.metrics._plot.confusion_matrix.ConfusionMatrixDisplay at 0x1fb54b46970>"
      ]
     },
     "execution_count": 13,
     "metadata": {},
     "output_type": "execute_result"
    },
    {
     "data": {
      "image/png": "[encoded data removed]",
      "text/plain": [
       "<Figure size 432x288 with 2 Axes>"
      ]
     },
     "metadata": {
      "needs_background": "light"
     },
     "output_type": "display_data"
    }
   ],
   "source": [
    "print('\\033[1m Train Group \\n \\033[0m')\n",
    "ConfusionMatrixDisplay.from_predictions(y_train, y_train_gnb, xticks_rotation=\"vertical\")"
   ]
  },
  {
   "cell_type": "code",
   "execution_count": 14,
   "id": "b81e0929",
   "metadata": {},
   "outputs": [
    {
     "name": "stdout",
     "output_type": "stream",
     "text": [
      "\u001b[1m Test Group \n",
      " \u001b[0m\n"
     ]
    },
    {
     "data": {
      "text/plain": [
       "<sklearn.metrics._plot.confusion_matrix.ConfusionMatrixDisplay at 0x1fb53f32f70>"
      ]
     },
     "execution_count": 14,
     "metadata": {},
     "output_type": "execute_result"
    },
    {
     "data": {
      "image/png": "[encoded data removed]",
      "text/plain": [
       "<Figure size 432x288 with 2 Axes>"
      ]
     },
     "metadata": {
      "needs_background": "light"
     },
     "output_type": "display_data"
    }
   ],
   "source": [
    "print('\\033[1m Test Group \\n \\033[0m')\n",
    "ConfusionMatrixDisplay.from_predictions(y_test, y_test_gnb, xticks_rotation=\"vertical\")"
   ]
  },
  {
   "cell_type": "markdown",
   "id": "3bee6c20",
   "metadata": {},
   "source": [
    "## Performance Metrics"
   ]
  },
  {
   "cell_type": "code",
   "execution_count": 15,
   "id": "8e7b0a8a",
   "metadata": {},
   "outputs": [],
   "source": [
    "from sklearn.metrics import accuracy_score\n",
    "from sklearn.metrics import precision_score\n",
    "from sklearn.metrics import recall_score\n",
    "from sklearn.metrics import f1_score"
   ]
  },
  {
   "cell_type": "code",
   "execution_count": 16,
   "id": "bbb308b7",
   "metadata": {},
   "outputs": [],
   "source": [
    "def metrics(y_train, y_test, y_train_pred, y_test_pred): \n",
    "       \n",
    "    acc_test = accuracy_score(y_test, y_test_pred)\n",
    "    acc_train = accuracy_score(y_train, y_train_pred)\n",
    "    \n",
    "    prec_test = precision_score(y_test, y_test_pred, average = 'micro')\n",
    "    prec_train = precision_score(y_train, y_train_pred, average = 'micro')\n",
    "        \n",
    "    recall_test = recall_score(y_test, y_test_pred, average = 'micro')\n",
    "    recall_train = recall_score(y_train, y_train_pred, average = 'micro')    \n",
    "        \n",
    "    f1_test = f1_score(y_test, y_test_pred, average = 'micro')\n",
    "    f1_train = f1_score(y_train, y_train_pred, average = 'micro')\n",
    "    \n",
    "    return [acc_test,acc_train,prec_test,prec_train,recall_test,recall_train,f1_test,f1_train]      "
   ]
  },
  {
   "cell_type": "code",
   "execution_count": 17,
   "id": "3c13c81a",
   "metadata": {},
   "outputs": [],
   "source": [
    "perf= pd.DataFrame()\n",
    "perf['Support Vector Machine'] = metrics(y_train, y_test, y_train_svc, y_test_svc)\n",
    "perf['Random Forest'] = metrics(y_train, y_test, y_train_rf, y_test_rf)\n",
    "perf['Gaussian Naive Bayes'] = metrics(y_train, y_test, y_train_gnb, y_test_gnb)\n",
    "perf['Metric'] = ['acc_test','acc_train','prec_test','prec_train','recall_test','recall_train','f1_test','f1_train']\n",
    "perf.set_index(['Metric'],inplace=True)"
   ]
  },
  {
   "cell_type": "code",
   "execution_count": 18,
   "id": "1f17dadc",
   "metadata": {},
   "outputs": [
    {
     "data": {
      "text/html": [
       "<style type=\"text/css\">\n",
       "#T_bda73_row0_col1, #T_bda73_row1_col1, #T_bda73_row1_col2, #T_bda73_row2_col1, #T_bda73_row3_col1, #T_bda73_row3_col2, #T_bda73_row4_col1, #T_bda73_row5_col1, #T_bda73_row5_col2, #T_bda73_row6_col1, #T_bda73_row7_col1, #T_bda73_row7_col2 {\n",
       "  background-color: lightgreen;\n",
       "}\n",
       "</style>\n",
       "<table id=\"T_bda73\">\n",
       "  <thead>\n",
       "    <tr>\n",
       "      <th class=\"blank level0\" >&nbsp;</th>\n",
       "      <th id=\"T_bda73_level0_col0\" class=\"col_heading level0 col0\" >Support Vector Machine</th>\n",
       "      <th id=\"T_bda73_level0_col1\" class=\"col_heading level0 col1\" >Random Forest</th>\n",
       "      <th id=\"T_bda73_level0_col2\" class=\"col_heading level0 col2\" >Gaussian Naive Bayes</th>\n",
       "    </tr>\n",
       "    <tr>\n",
       "      <th class=\"index_name level0\" >Metric</th>\n",
       "      <th class=\"blank col0\" >&nbsp;</th>\n",
       "      <th class=\"blank col1\" >&nbsp;</th>\n",
       "      <th class=\"blank col2\" >&nbsp;</th>\n",
       "    </tr>\n",
       "  </thead>\n",
       "  <tbody>\n",
       "    <tr>\n",
       "      <th id=\"T_bda73_level0_row0\" class=\"row_heading level0 row0\" >acc_test</th>\n",
       "      <td id=\"T_bda73_row0_col0\" class=\"data row0 col0\" >0.580645</td>\n",
       "      <td id=\"T_bda73_row0_col1\" class=\"data row0 col1\" >0.967742</td>\n",
       "      <td id=\"T_bda73_row0_col2\" class=\"data row0 col2\" >0.935484</td>\n",
       "    </tr>\n",
       "    <tr>\n",
       "      <th id=\"T_bda73_level0_row1\" class=\"row_heading level0 row1\" >acc_train</th>\n",
       "      <td id=\"T_bda73_row1_col0\" class=\"data row1 col0\" >0.614286</td>\n",
       "      <td id=\"T_bda73_row1_col1\" class=\"data row1 col1\" >1.000000</td>\n",
       "      <td id=\"T_bda73_row1_col2\" class=\"data row1 col2\" >1.000000</td>\n",
       "    </tr>\n",
       "    <tr>\n",
       "      <th id=\"T_bda73_level0_row2\" class=\"row_heading level0 row2\" >prec_test</th>\n",
       "      <td id=\"T_bda73_row2_col0\" class=\"data row2 col0\" >0.580645</td>\n",
       "      <td id=\"T_bda73_row2_col1\" class=\"data row2 col1\" >0.967742</td>\n",
       "      <td id=\"T_bda73_row2_col2\" class=\"data row2 col2\" >0.935484</td>\n",
       "    </tr>\n",
       "    <tr>\n",
       "      <th id=\"T_bda73_level0_row3\" class=\"row_heading level0 row3\" >prec_train</th>\n",
       "      <td id=\"T_bda73_row3_col0\" class=\"data row3 col0\" >0.614286</td>\n",
       "      <td id=\"T_bda73_row3_col1\" class=\"data row3 col1\" >1.000000</td>\n",
       "      <td id=\"T_bda73_row3_col2\" class=\"data row3 col2\" >1.000000</td>\n",
       "    </tr>\n",
       "    <tr>\n",
       "      <th id=\"T_bda73_level0_row4\" class=\"row_heading level0 row4\" >recall_test</th>\n",
       "      <td id=\"T_bda73_row4_col0\" class=\"data row4 col0\" >0.580645</td>\n",
       "      <td id=\"T_bda73_row4_col1\" class=\"data row4 col1\" >0.967742</td>\n",
       "      <td id=\"T_bda73_row4_col2\" class=\"data row4 col2\" >0.935484</td>\n",
       "    </tr>\n",
       "    <tr>\n",
       "      <th id=\"T_bda73_level0_row5\" class=\"row_heading level0 row5\" >recall_train</th>\n",
       "      <td id=\"T_bda73_row5_col0\" class=\"data row5 col0\" >0.614286</td>\n",
       "      <td id=\"T_bda73_row5_col1\" class=\"data row5 col1\" >1.000000</td>\n",
       "      <td id=\"T_bda73_row5_col2\" class=\"data row5 col2\" >1.000000</td>\n",
       "    </tr>\n",
       "    <tr>\n",
       "      <th id=\"T_bda73_level0_row6\" class=\"row_heading level0 row6\" >f1_test</th>\n",
       "      <td id=\"T_bda73_row6_col0\" class=\"data row6 col0\" >0.580645</td>\n",
       "      <td id=\"T_bda73_row6_col1\" class=\"data row6 col1\" >0.967742</td>\n",
       "      <td id=\"T_bda73_row6_col2\" class=\"data row6 col2\" >0.935484</td>\n",
       "    </tr>\n",
       "    <tr>\n",
       "      <th id=\"T_bda73_level0_row7\" class=\"row_heading level0 row7\" >f1_train</th>\n",
       "      <td id=\"T_bda73_row7_col0\" class=\"data row7 col0\" >0.614286</td>\n",
       "      <td id=\"T_bda73_row7_col1\" class=\"data row7 col1\" >1.000000</td>\n",
       "      <td id=\"T_bda73_row7_col2\" class=\"data row7 col2\" >1.000000</td>\n",
       "    </tr>\n",
       "  </tbody>\n",
       "</table>\n"
      ],
      "text/plain": [
       "<pandas.io.formats.style.Styler at 0x1fb54deb490>"
      ]
     },
     "execution_count": 18,
     "metadata": {},
     "output_type": "execute_result"
    }
   ],
   "source": [
    "perf.style.highlight_max(axis = 1, color = 'lightgreen')"
   ]
  },
  {
   "cell_type": "markdown",
   "id": "581cf323",
   "metadata": {},
   "source": [
    "## ROC Curve"
   ]
  },
  {
   "cell_type": "code",
   "execution_count": 19,
   "id": "89871003",
   "metadata": {},
   "outputs": [],
   "source": [
    "from sklearn.metrics import precision_recall_curve, PrecisionRecallDisplay"
   ]
  },
  {
   "cell_type": "code",
   "execution_count": 20,
   "id": "ea3cf3e2",
   "metadata": {},
   "outputs": [],
   "source": [
    "y_test_b = [ 1 if y_test.values[i] == 0 else 0 for i in range(len(y_test))]\n",
    "y_test_f = [ 1 if y_test.values[i] == 1 else 0 for i in range(len(y_test))]\n",
    "y_test_l = [ 1 if y_test.values[i] == 2 else 0 for i in range(len(y_test))]\n",
    "y_test_o = [ 1 if y_test.values[i] == 3 else 0 for i in range(len(y_test))]\n",
    "y_test_r = [ 1 if y_test.values[i] == 4 else 0 for i in range(len(y_test))]"
   ]
  },
  {
   "cell_type": "markdown",
   "id": "11546711",
   "metadata": {},
   "source": [
    "### Support Vector Machine"
   ]
  },
  {
   "cell_type": "markdown",
   "id": "eb8002f8",
   "metadata": {},
   "source": [
    "##### Still"
   ]
  },
  {
   "cell_type": "code",
   "execution_count": 21,
   "id": "6b50fa5b",
   "metadata": {},
   "outputs": [
    {
     "data": {
      "text/plain": [
       "<sklearn.metrics._plot.precision_recall_curve.PrecisionRecallDisplay at 0x1fb54e1f250>"
      ]
     },
     "execution_count": 21,
     "metadata": {},
     "output_type": "execute_result"
    },
    {
     "data": {
      "image/png": "[encoded data removed]",
      "text/plain": [
       "<Figure size 432x288 with 1 Axes>"
      ]
     },
     "metadata": {
      "needs_background": "light"
     },
     "output_type": "display_data"
    }
   ],
   "source": [
    "precisions, recalls, thresholds = precision_recall_curve(y_test_o, y_test_svc_proba[:,3])\n",
    "PrecisionRecallDisplay.from_predictions(y_test_o, y_test_svc_proba[:,3])"
   ]
  },
  {
   "cell_type": "markdown",
   "id": "5c0f0c9e",
   "metadata": {},
   "source": [
    "#### Back"
   ]
  },
  {
   "cell_type": "code",
   "execution_count": 22,
   "id": "9f75208f",
   "metadata": {},
   "outputs": [
    {
     "data": {
      "text/plain": [
       "<sklearn.metrics._plot.precision_recall_curve.PrecisionRecallDisplay at 0x1fb54f67fa0>"
      ]
     },
     "execution_count": 22,
     "metadata": {},
     "output_type": "execute_result"
    },
    {
     "data": {
      "image/png": "[encoded data removed]",
      "text/plain": [
       "<Figure size 432x288 with 1 Axes>"
      ]
     },
     "metadata": {
      "needs_background": "light"
     },
     "output_type": "display_data"
    }
   ],
   "source": [
    "precisions, recalls, thresholds = precision_recall_curve(y_test_b, y_test_svc_proba[:,0])\n",
    "PrecisionRecallDisplay.from_predictions(y_test_b, y_test_svc_proba[:,0])"
   ]
  },
  {
   "cell_type": "markdown",
   "id": "d78dcc65",
   "metadata": {},
   "source": [
    "#### Front"
   ]
  },
  {
   "cell_type": "code",
   "execution_count": 23,
   "id": "81b638e1",
   "metadata": {},
   "outputs": [
    {
     "data": {
      "text/plain": [
       "<sklearn.metrics._plot.precision_recall_curve.PrecisionRecallDisplay at 0x1fb55048d30>"
      ]
     },
     "execution_count": 23,
     "metadata": {},
     "output_type": "execute_result"
    },
    {
     "data": {
      "image/png": "[encoded data removed]",
      "text/plain": [
       "<Figure size 432x288 with 1 Axes>"
      ]
     },
     "metadata": {
      "needs_background": "light"
     },
     "output_type": "display_data"
    }
   ],
   "source": [
    "precisions, recalls, thresholds = precision_recall_curve(y_test_f, y_test_svc_proba[:,1])\n",
    "PrecisionRecallDisplay.from_predictions(y_test_f, y_test_svc_proba[:,1])"
   ]
  },
  {
   "cell_type": "markdown",
   "id": "f89d8424",
   "metadata": {},
   "source": [
    "#### Left"
   ]
  },
  {
   "cell_type": "code",
   "execution_count": 24,
   "id": "ad475ef8",
   "metadata": {},
   "outputs": [
    {
     "data": {
      "text/plain": [
       "<sklearn.metrics._plot.precision_recall_curve.PrecisionRecallDisplay at 0x1fb55064cd0>"
      ]
     },
     "execution_count": 24,
     "metadata": {},
     "output_type": "execute_result"
    },
    {
     "data": {
      "image/png": "[encoded data removed]",
      "text/plain": [
       "<Figure size 432x288 with 1 Axes>"
      ]
     },
     "metadata": {
      "needs_background": "light"
     },
     "output_type": "display_data"
    }
   ],
   "source": [
    "precisions, recalls, thresholds = precision_recall_curve(y_test_l, y_test_svc_proba[:,2])\n",
    "PrecisionRecallDisplay.from_predictions(y_test_l, y_test_svc_proba[:,2])"
   ]
  },
  {
   "cell_type": "markdown",
   "id": "eeb62073",
   "metadata": {},
   "source": [
    "#### Right"
   ]
  },
  {
   "cell_type": "code",
   "execution_count": 25,
   "id": "55e71fbb",
   "metadata": {},
   "outputs": [
    {
     "data": {
      "text/plain": [
       "<sklearn.metrics._plot.precision_recall_curve.PrecisionRecallDisplay at 0x1fb5507cd00>"
      ]
     },
     "execution_count": 25,
     "metadata": {},
     "output_type": "execute_result"
    },
    {
     "data": {
      "image/png": "[encoded data removed]",
      "text/plain": [
       "<Figure size 432x288 with 1 Axes>"
      ]
     },
     "metadata": {
      "needs_background": "light"
     },
     "output_type": "display_data"
    }
   ],
   "source": [
    "precisions, recalls, thresholds = precision_recall_curve(y_test_r, y_test_svc_proba[:,4])\n",
    "PrecisionRecallDisplay.from_predictions(y_test_r, y_test_svc_proba[:,4])"
   ]
  },
  {
   "cell_type": "markdown",
   "id": "86c84117",
   "metadata": {},
   "source": [
    "### Random Forest"
   ]
  },
  {
   "cell_type": "markdown",
   "id": "9b59fd55",
   "metadata": {},
   "source": [
    "##### Still"
   ]
  },
  {
   "cell_type": "code",
   "execution_count": 26,
   "id": "cb1b6bb4",
   "metadata": {},
   "outputs": [
    {
     "data": {
      "text/plain": [
       "<sklearn.metrics._plot.precision_recall_curve.PrecisionRecallDisplay at 0x1fb5513c760>"
      ]
     },
     "execution_count": 26,
     "metadata": {},
     "output_type": "execute_result"
    },
    {
     "data": {
      "image/png": "[encoded data removed]",
      "text/plain": [
       "<Figure size 432x288 with 1 Axes>"
      ]
     },
     "metadata": {
      "needs_background": "light"
     },
     "output_type": "display_data"
    }
   ],
   "source": [
    "precisions, recalls, thresholds = precision_recall_curve(y_test_o, y_test_rf_proba[:,3])\n",
    "PrecisionRecallDisplay.from_predictions(y_test_o, y_test_rf_proba[:,3])"
   ]
  },
  {
   "cell_type": "markdown",
   "id": "c3aa6ea0",
   "metadata": {},
   "source": [
    "#### Back"
   ]
  },
  {
   "cell_type": "code",
   "execution_count": 27,
   "id": "71a2439b",
   "metadata": {},
   "outputs": [
    {
     "data": {
      "text/plain": [
       "<sklearn.metrics._plot.precision_recall_curve.PrecisionRecallDisplay at 0x1fb551772b0>"
      ]
     },
     "execution_count": 27,
     "metadata": {},
     "output_type": "execute_result"
    },
    {
     "data": {
      "image/png": "[encoded data removed]",
      "text/plain": [
       "<Figure size 432x288 with 1 Axes>"
      ]
     },
     "metadata": {
      "needs_background": "light"
     },
     "output_type": "display_data"
    }
   ],
   "source": [
    "precisions, recalls, thresholds = precision_recall_curve(y_test_b, y_test_rf_proba[:,0])\n",
    "PrecisionRecallDisplay.from_predictions(y_test_b, y_test_rf_proba[:,0])"
   ]
  },
  {
   "cell_type": "markdown",
   "id": "33f2e675",
   "metadata": {},
   "source": [
    "#### Front"
   ]
  },
  {
   "cell_type": "code",
   "execution_count": 28,
   "id": "f6007fcf",
   "metadata": {},
   "outputs": [
    {
     "data": {
      "text/plain": [
       "<sklearn.metrics._plot.precision_recall_curve.PrecisionRecallDisplay at 0x1fb54e47fd0>"
      ]
     },
     "execution_count": 28,
     "metadata": {},
     "output_type": "execute_result"
    },
    {
     "data": {
      "image/png": "[encoded data removed]",
      "text/plain": [
       "<Figure size 432x288 with 1 Axes>"
      ]
     },
     "metadata": {
      "needs_background": "light"
     },
     "output_type": "display_data"
    }
   ],
   "source": [
    "precisions, recalls, thresholds = precision_recall_curve(y_test_f, y_test_rf_proba[:,1])\n",
    "PrecisionRecallDisplay.from_predictions(y_test_f, y_test_rf_proba[:,1])"
   ]
  },
  {
   "cell_type": "markdown",
   "id": "c7d9a642",
   "metadata": {},
   "source": [
    "#### Left"
   ]
  },
  {
   "cell_type": "code",
   "execution_count": 29,
   "id": "268a525f",
   "metadata": {},
   "outputs": [
    {
     "data": {
      "text/plain": [
       "<sklearn.metrics._plot.precision_recall_curve.PrecisionRecallDisplay at 0x1fb56274b50>"
      ]
     },
     "execution_count": 29,
     "metadata": {},
     "output_type": "execute_result"
    },
    {
     "data": {
      "image/png": "[encoded data removed]",
      "text/plain": [
       "<Figure size 432x288 with 1 Axes>"
      ]
     },
     "metadata": {
      "needs_background": "light"
     },
     "output_type": "display_data"
    }
   ],
   "source": [
    "precisions, recalls, thresholds = precision_recall_curve(y_test_l, y_test_rf_proba[:,2])\n",
    "PrecisionRecallDisplay.from_predictions(y_test_l, y_test_rf_proba[:,2])"
   ]
  },
  {
   "cell_type": "markdown",
   "id": "d0af2390",
   "metadata": {},
   "source": [
    "#### Right"
   ]
  },
  {
   "cell_type": "code",
   "execution_count": 30,
   "id": "886bdb7d",
   "metadata": {},
   "outputs": [
    {
     "data": {
      "text/plain": [
       "<sklearn.metrics._plot.precision_recall_curve.PrecisionRecallDisplay at 0x1fb563148b0>"
      ]
     },
     "execution_count": 30,
     "metadata": {},
     "output_type": "execute_result"
    },
    {
     "data": {
      "image/png": "[encoded data removed]",
      "text/plain": [
       "<Figure size 432x288 with 1 Axes>"
      ]
     },
     "metadata": {
      "needs_background": "light"
     },
     "output_type": "display_data"
    }
   ],
   "source": [
    "precisions, recalls, thresholds = precision_recall_curve(y_test_r, y_test_rf_proba[:,4])\n",
    "PrecisionRecallDisplay.from_predictions(y_test_r, y_test_rf_proba[:,4])"
   ]
  },
  {
   "cell_type": "markdown",
   "id": "f488a8b4",
   "metadata": {},
   "source": [
    "### Gaussian Naive Bayes"
   ]
  },
  {
   "cell_type": "markdown",
   "id": "314fa285",
   "metadata": {},
   "source": [
    "##### Still"
   ]
  },
  {
   "cell_type": "code",
   "execution_count": 31,
   "id": "d28d1e70",
   "metadata": {},
   "outputs": [
    {
     "data": {
      "text/plain": [
       "<sklearn.metrics._plot.precision_recall_curve.PrecisionRecallDisplay at 0x1fb5630ee80>"
      ]
     },
     "execution_count": 31,
     "metadata": {},
     "output_type": "execute_result"
    },
    {
     "data": {
      "image/png": "[encoded data removed]",
      "text/plain": [
       "<Figure size 432x288 with 1 Axes>"
      ]
     },
     "metadata": {
      "needs_background": "light"
     },
     "output_type": "display_data"
    }
   ],
   "source": [
    "precisions, recalls, thresholds = precision_recall_curve(y_test_o, y_test_gnb_proba[:,3])\n",
    "PrecisionRecallDisplay.from_predictions(y_test_o, y_test_gnb_proba[:,3])"
   ]
  },
  {
   "cell_type": "markdown",
   "id": "41371615",
   "metadata": {},
   "source": [
    "#### Back"
   ]
  },
  {
   "cell_type": "code",
   "execution_count": 32,
   "id": "dca07490",
   "metadata": {},
   "outputs": [
    {
     "data": {
      "text/plain": [
       "<sklearn.metrics._plot.precision_recall_curve.PrecisionRecallDisplay at 0x1fb56374e50>"
      ]
     },
     "execution_count": 32,
     "metadata": {},
     "output_type": "execute_result"
    },
    {
     "data": {
      "image/png": "[encoded data removed]",
      "text/plain": [
       "<Figure size 432x288 with 1 Axes>"
      ]
     },
     "metadata": {
      "needs_background": "light"
     },
     "output_type": "display_data"
    }
   ],
   "source": [
    "precisions, recalls, thresholds = precision_recall_curve(y_test_b, y_test_gnb_proba[:,0])\n",
    "PrecisionRecallDisplay.from_predictions(y_test_b, y_test_gnb_proba[:,0])"
   ]
  },
  {
   "cell_type": "markdown",
   "id": "936c45bd",
   "metadata": {},
   "source": [
    "#### Front"
   ]
  },
  {
   "cell_type": "code",
   "execution_count": 33,
   "id": "a2dcc582",
   "metadata": {},
   "outputs": [
    {
     "data": {
      "text/plain": [
       "<sklearn.metrics._plot.precision_recall_curve.PrecisionRecallDisplay at 0x1fb56321940>"
      ]
     },
     "execution_count": 33,
     "metadata": {},
     "output_type": "execute_result"
    },
    {
     "data": {
      "image/png": "[encoded data removed]",
      "text/plain": [
       "<Figure size 432x288 with 1 Axes>"
      ]
     },
     "metadata": {
      "needs_background": "light"
     },
     "output_type": "display_data"
    }
   ],
   "source": [
    "precisions, recalls, thresholds = precision_recall_curve(y_test_f, y_test_gnb_proba[:,1])\n",
    "PrecisionRecallDisplay.from_predictions(y_test_f, y_test_gnb_proba[:,1])"
   ]
  },
  {
   "cell_type": "markdown",
   "id": "891f3db4",
   "metadata": {},
   "source": [
    "#### Left"
   ]
  },
  {
   "cell_type": "code",
   "execution_count": 34,
   "id": "4cb638a9",
   "metadata": {},
   "outputs": [
    {
     "data": {
      "text/plain": [
       "<sklearn.metrics._plot.precision_recall_curve.PrecisionRecallDisplay at 0x1fb564e3580>"
      ]
     },
     "execution_count": 34,
     "metadata": {},
     "output_type": "execute_result"
    },
    {
     "data": {
      "image/png": "[encoded data removed]",
      "text/plain": [
       "<Figure size 432x288 with 1 Axes>"
      ]
     },
     "metadata": {
      "needs_background": "light"
     },
     "output_type": "display_data"
    }
   ],
   "source": [
    "precisions, recalls, thresholds = precision_recall_curve(y_test_l, y_test_gnb_proba[:,2])\n",
    "PrecisionRecallDisplay.from_predictions(y_test_l, y_test_gnb_proba[:,2])"
   ]
  },
  {
   "cell_type": "markdown",
   "id": "7576204b",
   "metadata": {},
   "source": [
    "#### Right"
   ]
  },
  {
   "cell_type": "code",
   "execution_count": 35,
   "id": "8823e329",
   "metadata": {},
   "outputs": [
    {
     "data": {
      "text/plain": [
       "<sklearn.metrics._plot.precision_recall_curve.PrecisionRecallDisplay at 0x1fb5648c1c0>"
      ]
     },
     "execution_count": 35,
     "metadata": {},
     "output_type": "execute_result"
    },
    {
     "data": {
      "image/png": "[encoded data removed]",
      "text/plain": [
       "<Figure size 432x288 with 1 Axes>"
      ]
     },
     "metadata": {
      "needs_background": "light"
     },
     "output_type": "display_data"
    }
   ],
   "source": [
    "precisions, recalls, thresholds = precision_recall_curve(y_test_r, y_test_gnb_proba[:,4])\n",
    "PrecisionRecallDisplay.from_predictions(y_test_r, y_test_gnb_proba[:,4])"
   ]
  },
  {
   "cell_type": "markdown",
   "id": "443c2221",
   "metadata": {},
   "source": [
    "# Exportar Modelo Escolhido ( Gaussian Naive Bayes )"
   ]
  },
  {
   "cell_type": "code",
   "execution_count": 37,
   "id": "c4c6d758",
   "metadata": {},
   "outputs": [],
   "source": [
    "import joblib"
   ]
  },
  {
   "cell_type": "code",
   "execution_count": 39,
   "id": "ad6a6291",
   "metadata": {},
   "outputs": [
    {
     "data": {
      "text/plain": [
       "['gnb_model.sav']"
      ]
     },
     "execution_count": 39,
     "metadata": {},
     "output_type": "execute_result"
    }
   ],
   "source": [
    "gnb = GaussianNB()\n",
    "gnb.fit(X_data, y_data)\n",
    "\n",
    "filename = 'gnb_model.sav'\n",
    "joblib.dump(gnb, filename)"
   ]
  }
 ],
 "metadata": {
  "kernelspec": {
   "display_name": "Python 3 (ipykernel)",
   "language": "python",
   "name": "python3"
  },
  "language_info": {
   "codemirror_mode": {
    "name": "ipython",
    "version": 3
   },
   "file_extension": ".py",
   "mimetype": "text/x-python",
   "name": "python",
   "nbconvert_exporter": "python",
   "pygments_lexer": "ipython3",
   "version": "3.9.12"
  }
 },
 "nbformat": 4,
 "nbformat_minor": 5
}
